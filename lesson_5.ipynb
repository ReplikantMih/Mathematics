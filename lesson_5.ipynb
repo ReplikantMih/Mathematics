{
 "cells": [
  {
   "cell_type": "code",
   "execution_count": 105,
   "metadata": {},
   "outputs": [],
   "source": [
    "import numpy as np\n",
    "import matplotlib.pyplot as plt\n",
    "import itertools\n",
    "\n",
    "import random"
   ]
  },
  {
   "cell_type": "markdown",
   "metadata": {},
   "source": [
    "### Task_1:"
   ]
  },
  {
   "cell_type": "markdown",
   "metadata": {},
   "source": [
    "1. Напишите код, моделирующий выпадение поля в рулетке (с учетом поля зеро)."
   ]
  },
  {
   "cell_type": "code",
   "execution_count": 14,
   "metadata": {},
   "outputs": [
    {
     "name": "stdout",
     "output_type": "stream",
     "text": [
      "11\n",
      "8\n",
      "27\n",
      "11\n",
      "23\n",
      "28\n",
      "13\n",
      "5\n",
      "32\n",
      "36\n",
      "18\n",
      "36\n",
      "20\n",
      "33\n",
      "21\n",
      "13\n",
      "3\n",
      "3\n",
      "2\n",
      "16\n",
      "25\n",
      "20\n",
      "19\n",
      "28\n",
      "35\n"
     ]
    }
   ],
   "source": [
    "fields = np.linspace(0, 36, 37).astype(np.int32)\n",
    "n = 25\n",
    "\n",
    "for i in range(n):\n",
    "    print(np.random.choice(fields))"
   ]
  },
  {
   "cell_type": "markdown",
   "metadata": {},
   "source": [
    "### Task_2_1:"
   ]
  },
  {
   "cell_type": "markdown",
   "metadata": {},
   "source": [
    "2.1. \n",
    "Напишите код, проверяющий любую из теорем сложения или умножения вероятности на примере рулетки или подбрасывания монетки.\n"
   ]
  },
  {
   "cell_type": "markdown",
   "metadata": {},
   "source": [
    "Решение:"
   ]
  },
  {
   "cell_type": "markdown",
   "metadata": {},
   "source": [
    "Пусть есть две рулетки, получим на большой выборке фактическое значение успешные события / все события где событие - выпадение на хотя бы одной из рулеток заданного поля (проверка теоремы сложения вероятностей) при одновременном вбрасывании."
   ]
  },
  {
   "cell_type": "code",
   "execution_count": 67,
   "metadata": {},
   "outputs": [
    {
     "name": "stdout",
     "output_type": "stream",
     "text": [
      "Вычисленная вероятность наступления хотя бы одного из событий:  0.054\n",
      "Фактическое отношение истинных событий ко всем:  0.0547\n"
     ]
    }
   ],
   "source": [
    "n = 10000\n",
    "fields = np.linspace(0, 36, 37).astype(np.int32)\n",
    "\n",
    "field = np.random.choice(fields)\n",
    "\n",
    "true_events_count = 0\n",
    "for i in range(n):\n",
    "    field_1 = np.random.choice(fields)  # Выпавшее поле на 1-й рулетке.\n",
    "    field_2 = np.random.choice(fields)  # Выпавшее поле на 2-й рулетке.\n",
    "    if field_1 == field or field_2 == field:\n",
    "        true_events_count += 1\n",
    "\n",
    "print('Вычисленная вероятность наступления хотя бы одного из событий: ', round(1/37 + 1/37, 3))\n",
    "print('Фактическое отношение истинных событий ко всем: ',true_events_count / n)"
   ]
  },
  {
   "cell_type": "markdown",
   "metadata": {},
   "source": [
    "Действительно, с ростом числа испытаний фактическое значение стремиться к вычисляемому по теореме сложения вероятностей."
   ]
  },
  {
   "cell_type": "markdown",
   "metadata": {},
   "source": [
    "### Task_2_2:"
   ]
  },
  {
   "cell_type": "markdown",
   "metadata": {},
   "source": [
    "2.2. Сгенерируйте десять выборок случайных чисел х0, …, х9.\n",
    "и постройте гистограмму распределения случайной суммы х0+х1+ …+ х9.\n"
   ]
  },
  {
   "cell_type": "code",
   "execution_count": 103,
   "metadata": {},
   "outputs": [
    {
     "data": {
      "text/plain": [
       "(array([0.02547342, 0.11378126, 0.28020759, 0.40078177, 0.37530835,\n",
       "        0.31247392, 0.14434936, 0.03736101, 0.00679291, 0.00169823]),\n",
       " array([2.54129026, 3.13013941, 3.71898855, 4.30783769, 4.89668684,\n",
       "        5.48553598, 6.07438513, 6.66323427, 7.25208341, 7.84093256,\n",
       "        8.4297817 ]),\n",
       " <a list of 10 Patch objects>)"
      ]
     },
     "execution_count": 103,
     "metadata": {},
     "output_type": "execute_result"
    },
    {
     "data": {
      "image/png": "[encoded data removed]",
      "text/plain": [
       "<Figure size 432x288 with 1 Axes>"
      ]
     },
     "metadata": {
      "needs_background": "light"
     },
     "output_type": "display_data"
    }
   ],
   "source": [
    "n = 1000  # Кол-во наборов.\n",
    "m = 10  # Кол-во чисел в наборе.\n",
    "\n",
    "samples_list = [np.random.rand(m) for i in range(n)]\n",
    "sums = [np.sum(sample) for sample in samples_list]\n",
    "\n",
    "\n",
    "plt.hist(sums, bins = 10, density=True)"
   ]
  },
  {
   "cell_type": "markdown",
   "metadata": {},
   "source": [
    "### Task_4:"
   ]
  },
  {
   "cell_type": "markdown",
   "metadata": {},
   "source": [
    "Из урока по комбинаторике повторите расчеты, сгенерировав возможные варианты перестановок для других значений n и k"
   ]
  },
  {
   "cell_type": "code",
   "execution_count": 117,
   "metadata": {},
   "outputs": [],
   "source": [
    "def permutation(values, count):\n",
    "    combinations = []\n",
    "    for i in itertools.permutations(values, count):\n",
    "        combinations.append(''.join(i))\n",
    "    return combinations"
   ]
  },
  {
   "cell_type": "code",
   "execution_count": 135,
   "metadata": {},
   "outputs": [
    {
     "name": "stdout",
     "output_type": "stream",
     "text": [
      "5040 \n",
      "\n",
      "24\n",
      "['abcd', 'abdc', 'acbd', 'acdb', 'adbc', 'adcb', 'bacd', 'badc', 'bcad', 'bcda', 'bdac', 'bdca', 'cabd', 'cadb', 'cbad', 'cbda', 'cdab', 'cdba', 'dabc', 'dacb', 'dbac', 'dbca', 'dcab', 'dcba']\n"
     ]
    }
   ],
   "source": [
    "permutations = permutation('abcdefg', 7)\n",
    "print(len(permutations), '\\n')\n",
    "\n",
    "print(len(permutation('abcd', 4)))\n",
    "print(permutation('abcd', 4))"
   ]
  },
  {
   "cell_type": "markdown",
   "metadata": {},
   "source": [
    "### Task_5"
   ]
  },
  {
   "cell_type": "markdown",
   "metadata": {},
   "source": [
    "Дополните код расчетом коэффициента корреляции x и y по формуле."
   ]
  },
  {
   "cell_type": "code",
   "execution_count": 368,
   "metadata": {},
   "outputs": [
    {
     "data": {
      "text/plain": [
       "(0.727006873680842, 0.7270068736808423)"
      ]
     },
     "execution_count": 368,
     "metadata": {},
     "output_type": "execute_result"
    },
    {
     "data": {
      "image/png": "[encoded data removed]",
      "text/plain": [
       "<Figure size 432x288 with 1 Axes>"
      ]
     },
     "metadata": {
      "needs_background": "light"
     },
     "output_type": "display_data"
    }
   ],
   "source": [
    "n = 100\n",
    "r = 0.55\n",
    "x = np.random.rand(n)\n",
    "\n",
    "\n",
    "y = r*x + (1-r)*np.random.rand(n)\n",
    "\n",
    "\n",
    "corr = np.sum((x - np.mean(x)) * (y - np.mean(y))) /\\\n",
    "np.sqrt(np.sum((x - np.mean(x))**2) * np.sum((y - np.mean(y))**2))\n",
    "\n",
    "\n",
    "plt.scatter(x, y)\n",
    "np.corrcoef(x, y)[0][1], corr"
   ]
  }
 ],
 "metadata": {
  "kernelspec": {
   "display_name": "Python 3",
   "language": "python",
   "name": "python3"
  },
  "language_info": {
   "codemirror_mode": {
    "name": "ipython",
    "version": 3
   },
   "file_extension": ".py",
   "mimetype": "text/x-python",
   "name": "python",
   "nbconvert_exporter": "python",
   "pygments_lexer": "ipython3",
   "version": "3.7.3"
  }
 },
 "nbformat": 4,
 "nbformat_minor": 2
}
